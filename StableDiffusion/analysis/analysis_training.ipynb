{
 "cells": [
  {
   "cell_type": "markdown",
   "metadata": {},
   "source": [
    "# Energy consumption of training Stable Diffusion\n",
    "Author: Mathilde Jay    \n",
    "Date: 01/08/2023\n",
    "\n",
    "### Summary\n",
    "- Analysis of energy consumed\n",
    "- Analysis of power timeseries\n",
    "    - by components\n",
    "    - in total\n",
    "- Analysis of ML stats\n",
    "\n",
    "The results were first processed using the script \"process_results.py\" : \n",
    "```\n",
    "python utils/process_results.py --analysis_git_dir \"/home/mjay/ai-energy-consumption-framework\" --result_folder \"/home/mjay/laion/pokemon/training_27_09_sirius_adamW\"\n",
    "```"
   ]
  },
  {
   "cell_type": "code",
   "execution_count": 16,
   "metadata": {},
   "outputs": [],
   "source": [
    "import pandas as pd\n",
    "import matplotlib.pyplot as plt\n",
    "import numpy as np\n",
    "from sklearn.linear_model import LinearRegression\n",
    "import ipywidgets as widgets\n",
    "from ipywidgets import interact, interact_manual\n",
    "import seaborn as sns"
   ]
  },
  {
   "cell_type": "markdown",
   "metadata": {},
   "source": [
    "## Description of results"
   ]
  },
  {
   "cell_type": "code",
   "execution_count": 17,
   "metadata": {},
   "outputs": [
    {
     "ename": "SyntaxError",
     "evalue": "invalid syntax (112604013.py, line 6)",
     "output_type": "error",
     "traceback": [
      "\u001b[0;36m  File \u001b[0;32m\"/tmp/ipykernel_1299687/112604013.py\"\u001b[0;36m, line \u001b[0;32m6\u001b[0m\n\u001b[0;31m    exp_table = pd.DataFrame()\u001b[0m\n\u001b[0m              ^\u001b[0m\n\u001b[0;31mSyntaxError\u001b[0m\u001b[0;31m:\u001b[0m invalid syntax\n"
     ]
    }
   ],
   "source": [
    "files = [\n",
    "    \"/home/mjay/laion/pokemon/training_6_09_sirius/\",\n",
    "    \"/home/mjay/laion/pokemon/training_11_09_sirius/\",\n",
    "    \"/home/mjay/laion/pokemon/training_13_09_sirius/\",\n",
    "    \"/home/mjay/laion/pokemon/training_27_09_sirius/\",\n",
    "]\n",
    "exp_table = pd.DataFrame()\n",
    "for f in files:\n",
    "    table = pd.read_csv(f+\"processed_table.csv\")\n",
    "    exp_table = pd.concat([exp_table, table])    \n",
    "cols = [x for x in exp_table.columns if \"tool\" not in x and \"id\" not in x and \"dir\" not in x]\n",
    "exp_table[cols].T"
   ]
  },
  {
   "cell_type": "markdown",
   "metadata": {},
   "source": [
    "## Energy consumed by each experiments\n",
    "\"sensor_bench_energy_consumption(kWh)\" is the sum of all the energy data - as reported by the software-based power meters (or internal sensors).   \n",
    "\"wattmetre_bench_energy_consumption(kWh)\" is the sum of the energy data - as reported by the power meters.\n",
    "The second table counts the number of experiments done.\n"
   ]
  },
  {
   "cell_type": "code",
   "execution_count": 15,
   "metadata": {},
   "outputs": [
    {
     "data": {
      "text/html": [
       "<div>\n",
       "<style scoped>\n",
       "    .dataframe tbody tr th:only-of-type {\n",
       "        vertical-align: middle;\n",
       "    }\n",
       "\n",
       "    .dataframe tbody tr th {\n",
       "        vertical-align: top;\n",
       "    }\n",
       "\n",
       "    .dataframe thead th {\n",
       "        text-align: right;\n",
       "    }\n",
       "</style>\n",
       "<table border=\"1\" class=\"dataframe\">\n",
       "  <thead>\n",
       "    <tr style=\"text-align: right;\">\n",
       "      <th></th>\n",
       "      <th></th>\n",
       "      <th></th>\n",
       "      <th></th>\n",
       "      <th>sensor_bench_energy_consumption(kWh)</th>\n",
       "      <th>wattmetre_bench_energy_consumption(kWh)</th>\n",
       "    </tr>\n",
       "    <tr>\n",
       "      <th>num_train_epochs</th>\n",
       "      <th>max_train_samples</th>\n",
       "      <th>resolution</th>\n",
       "      <th>use_8bit_adam</th>\n",
       "      <th></th>\n",
       "      <th></th>\n",
       "    </tr>\n",
       "  </thead>\n",
       "  <tbody>\n",
       "    <tr>\n",
       "      <th rowspan=\"6\" valign=\"top\">1.0</th>\n",
       "      <th rowspan=\"2\" valign=\"top\">400.0</th>\n",
       "      <th>256</th>\n",
       "      <th>True</th>\n",
       "      <td>0.013550</td>\n",
       "      <td>0.027322</td>\n",
       "    </tr>\n",
       "    <tr>\n",
       "      <th>512</th>\n",
       "      <th>True</th>\n",
       "      <td>0.018630</td>\n",
       "      <td>0.033011</td>\n",
       "    </tr>\n",
       "    <tr>\n",
       "      <th rowspan=\"2\" valign=\"top\">600.0</th>\n",
       "      <th>256</th>\n",
       "      <th>True</th>\n",
       "      <td>0.013997</td>\n",
       "      <td>0.027228</td>\n",
       "    </tr>\n",
       "    <tr>\n",
       "      <th>512</th>\n",
       "      <th>True</th>\n",
       "      <td>0.022819</td>\n",
       "      <td>0.038696</td>\n",
       "    </tr>\n",
       "    <tr>\n",
       "      <th rowspan=\"2\" valign=\"top\">800.0</th>\n",
       "      <th>256</th>\n",
       "      <th>True</th>\n",
       "      <td>0.014974</td>\n",
       "      <td>0.028393</td>\n",
       "    </tr>\n",
       "    <tr>\n",
       "      <th>512</th>\n",
       "      <th>True</th>\n",
       "      <td>0.027035</td>\n",
       "      <td>0.044384</td>\n",
       "    </tr>\n",
       "    <tr>\n",
       "      <th rowspan=\"6\" valign=\"top\">5.0</th>\n",
       "      <th rowspan=\"2\" valign=\"top\">400.0</th>\n",
       "      <th>256</th>\n",
       "      <th>True</th>\n",
       "      <td>0.023209</td>\n",
       "      <td>0.039761</td>\n",
       "    </tr>\n",
       "    <tr>\n",
       "      <th>512</th>\n",
       "      <th>True</th>\n",
       "      <td>0.054722</td>\n",
       "      <td>0.080607</td>\n",
       "    </tr>\n",
       "    <tr>\n",
       "      <th rowspan=\"2\" valign=\"top\">600.0</th>\n",
       "      <th>256</th>\n",
       "      <th>True</th>\n",
       "      <td>0.028482</td>\n",
       "      <td>0.046195</td>\n",
       "    </tr>\n",
       "    <tr>\n",
       "      <th>512</th>\n",
       "      <th>True</th>\n",
       "      <td>0.075564</td>\n",
       "      <td>0.108812</td>\n",
       "    </tr>\n",
       "    <tr>\n",
       "      <th rowspan=\"2\" valign=\"top\">800.0</th>\n",
       "      <th>256</th>\n",
       "      <th>True</th>\n",
       "      <td>0.034319</td>\n",
       "      <td>0.053974</td>\n",
       "    </tr>\n",
       "    <tr>\n",
       "      <th>512</th>\n",
       "      <th>True</th>\n",
       "      <td>0.095818</td>\n",
       "      <td>0.135508</td>\n",
       "    </tr>\n",
       "    <tr>\n",
       "      <th rowspan=\"6\" valign=\"top\">10.0</th>\n",
       "      <th rowspan=\"2\" valign=\"top\">400.0</th>\n",
       "      <th>256</th>\n",
       "      <th>True</th>\n",
       "      <td>0.035953</td>\n",
       "      <td>0.056450</td>\n",
       "    </tr>\n",
       "    <tr>\n",
       "      <th>512</th>\n",
       "      <th>True</th>\n",
       "      <td>0.099985</td>\n",
       "      <td>0.141472</td>\n",
       "    </tr>\n",
       "    <tr>\n",
       "      <th rowspan=\"2\" valign=\"top\">600.0</th>\n",
       "      <th>256</th>\n",
       "      <th>True</th>\n",
       "      <td>0.047605</td>\n",
       "      <td>0.071739</td>\n",
       "    </tr>\n",
       "    <tr>\n",
       "      <th>512</th>\n",
       "      <th>True</th>\n",
       "      <td>0.140978</td>\n",
       "      <td>0.194753</td>\n",
       "    </tr>\n",
       "    <tr>\n",
       "      <th rowspan=\"2\" valign=\"top\">800.0</th>\n",
       "      <th>256</th>\n",
       "      <th>True</th>\n",
       "      <td>0.059075</td>\n",
       "      <td>0.086779</td>\n",
       "    </tr>\n",
       "    <tr>\n",
       "      <th>512</th>\n",
       "      <th>True</th>\n",
       "      <td>0.182700</td>\n",
       "      <td>0.250727</td>\n",
       "    </tr>\n",
       "    <tr>\n",
       "      <th rowspan=\"8\" valign=\"top\">100.0</th>\n",
       "      <th rowspan=\"4\" valign=\"top\">400.0</th>\n",
       "      <th rowspan=\"2\" valign=\"top\">256</th>\n",
       "      <th>False</th>\n",
       "      <td>0.003163</td>\n",
       "      <td>0.007375</td>\n",
       "    </tr>\n",
       "    <tr>\n",
       "      <th>True</th>\n",
       "      <td>0.282782</td>\n",
       "      <td>0.392853</td>\n",
       "    </tr>\n",
       "    <tr>\n",
       "      <th rowspan=\"2\" valign=\"top\">512</th>\n",
       "      <th>False</th>\n",
       "      <td>0.002721</td>\n",
       "      <td>0.006393</td>\n",
       "    </tr>\n",
       "    <tr>\n",
       "      <th>True</th>\n",
       "      <td>0.927291</td>\n",
       "      <td>1.238452</td>\n",
       "    </tr>\n",
       "    <tr>\n",
       "      <th rowspan=\"2\" valign=\"top\">600.0</th>\n",
       "      <th>256</th>\n",
       "      <th>True</th>\n",
       "      <td>0.401118</td>\n",
       "      <td>0.547320</td>\n",
       "    </tr>\n",
       "    <tr>\n",
       "      <th>512</th>\n",
       "      <th>True</th>\n",
       "      <td>1.347302</td>\n",
       "      <td>1.795420</td>\n",
       "    </tr>\n",
       "    <tr>\n",
       "      <th rowspan=\"2\" valign=\"top\">800.0</th>\n",
       "      <th>256</th>\n",
       "      <th>True</th>\n",
       "      <td>0.519130</td>\n",
       "      <td>0.701192</td>\n",
       "    </tr>\n",
       "    <tr>\n",
       "      <th>512</th>\n",
       "      <th>True</th>\n",
       "      <td>1.762268</td>\n",
       "      <td>2.344195</td>\n",
       "    </tr>\n",
       "    <tr>\n",
       "      <th rowspan=\"2\" valign=\"top\">250.0</th>\n",
       "      <th rowspan=\"2\" valign=\"top\">500.0</th>\n",
       "      <th>256</th>\n",
       "      <th>True</th>\n",
       "      <td>0.852420</td>\n",
       "      <td>1.166257</td>\n",
       "    </tr>\n",
       "    <tr>\n",
       "      <th>512</th>\n",
       "      <th>True</th>\n",
       "      <td>2.836858</td>\n",
       "      <td>3.784039</td>\n",
       "    </tr>\n",
       "    <tr>\n",
       "      <th rowspan=\"6\" valign=\"top\">500.0</th>\n",
       "      <th rowspan=\"2\" valign=\"top\">400.0</th>\n",
       "      <th>256</th>\n",
       "      <th>True</th>\n",
       "      <td>1.384708</td>\n",
       "      <td>1.886469</td>\n",
       "    </tr>\n",
       "    <tr>\n",
       "      <th>512</th>\n",
       "      <th>True</th>\n",
       "      <td>4.606841</td>\n",
       "      <td>6.142591</td>\n",
       "    </tr>\n",
       "    <tr>\n",
       "      <th rowspan=\"2\" valign=\"top\">600.0</th>\n",
       "      <th>256</th>\n",
       "      <th>True</th>\n",
       "      <td>1.974766</td>\n",
       "      <td>2.670975</td>\n",
       "    </tr>\n",
       "    <tr>\n",
       "      <th>512</th>\n",
       "      <th>True</th>\n",
       "      <td>6.669783</td>\n",
       "      <td>8.875084</td>\n",
       "    </tr>\n",
       "    <tr>\n",
       "      <th rowspan=\"2\" valign=\"top\">800.0</th>\n",
       "      <th>256</th>\n",
       "      <th>True</th>\n",
       "      <td>2.580918</td>\n",
       "      <td>3.477523</td>\n",
       "    </tr>\n",
       "    <tr>\n",
       "      <th>512</th>\n",
       "      <th>True</th>\n",
       "      <td>8.778552</td>\n",
       "      <td>11.674122</td>\n",
       "    </tr>\n",
       "  </tbody>\n",
       "</table>\n",
       "</div>"
      ],
      "text/plain": [
       "                                                             sensor_bench_energy_consumption(kWh)  \\\n",
       "num_train_epochs max_train_samples resolution use_8bit_adam                                         \n",
       "1.0              400.0             256        True                                       0.013550   \n",
       "                                   512        True                                       0.018630   \n",
       "                 600.0             256        True                                       0.013997   \n",
       "                                   512        True                                       0.022819   \n",
       "                 800.0             256        True                                       0.014974   \n",
       "                                   512        True                                       0.027035   \n",
       "5.0              400.0             256        True                                       0.023209   \n",
       "                                   512        True                                       0.054722   \n",
       "                 600.0             256        True                                       0.028482   \n",
       "                                   512        True                                       0.075564   \n",
       "                 800.0             256        True                                       0.034319   \n",
       "                                   512        True                                       0.095818   \n",
       "10.0             400.0             256        True                                       0.035953   \n",
       "                                   512        True                                       0.099985   \n",
       "                 600.0             256        True                                       0.047605   \n",
       "                                   512        True                                       0.140978   \n",
       "                 800.0             256        True                                       0.059075   \n",
       "                                   512        True                                       0.182700   \n",
       "100.0            400.0             256        False                                      0.003163   \n",
       "                                              True                                       0.282782   \n",
       "                                   512        False                                      0.002721   \n",
       "                                              True                                       0.927291   \n",
       "                 600.0             256        True                                       0.401118   \n",
       "                                   512        True                                       1.347302   \n",
       "                 800.0             256        True                                       0.519130   \n",
       "                                   512        True                                       1.762268   \n",
       "250.0            500.0             256        True                                       0.852420   \n",
       "                                   512        True                                       2.836858   \n",
       "500.0            400.0             256        True                                       1.384708   \n",
       "                                   512        True                                       4.606841   \n",
       "                 600.0             256        True                                       1.974766   \n",
       "                                   512        True                                       6.669783   \n",
       "                 800.0             256        True                                       2.580918   \n",
       "                                   512        True                                       8.778552   \n",
       "\n",
       "                                                             wattmetre_bench_energy_consumption(kWh)  \n",
       "num_train_epochs max_train_samples resolution use_8bit_adam                                           \n",
       "1.0              400.0             256        True                                          0.027322  \n",
       "                                   512        True                                          0.033011  \n",
       "                 600.0             256        True                                          0.027228  \n",
       "                                   512        True                                          0.038696  \n",
       "                 800.0             256        True                                          0.028393  \n",
       "                                   512        True                                          0.044384  \n",
       "5.0              400.0             256        True                                          0.039761  \n",
       "                                   512        True                                          0.080607  \n",
       "                 600.0             256        True                                          0.046195  \n",
       "                                   512        True                                          0.108812  \n",
       "                 800.0             256        True                                          0.053974  \n",
       "                                   512        True                                          0.135508  \n",
       "10.0             400.0             256        True                                          0.056450  \n",
       "                                   512        True                                          0.141472  \n",
       "                 600.0             256        True                                          0.071739  \n",
       "                                   512        True                                          0.194753  \n",
       "                 800.0             256        True                                          0.086779  \n",
       "                                   512        True                                          0.250727  \n",
       "100.0            400.0             256        False                                         0.007375  \n",
       "                                              True                                          0.392853  \n",
       "                                   512        False                                         0.006393  \n",
       "                                              True                                          1.238452  \n",
       "                 600.0             256        True                                          0.547320  \n",
       "                                   512        True                                          1.795420  \n",
       "                 800.0             256        True                                          0.701192  \n",
       "                                   512        True                                          2.344195  \n",
       "250.0            500.0             256        True                                          1.166257  \n",
       "                                   512        True                                          3.784039  \n",
       "500.0            400.0             256        True                                          1.886469  \n",
       "                                   512        True                                          6.142591  \n",
       "                 600.0             256        True                                          2.670975  \n",
       "                                   512        True                                          8.875084  \n",
       "                 800.0             256        True                                          3.477523  \n",
       "                                   512        True                                         11.674122  "
      ]
     },
     "execution_count": 15,
     "metadata": {},
     "output_type": "execute_result"
    }
   ],
   "source": [
    "exp_table.groupby([\n",
    "        'num_train_epochs','max_train_samples','resolution',\n",
    "       # 'seed'\n",
    "       ]).mean()[[\"sensor_bench_energy_consumption(kWh)\", \"wattmetre_bench_energy_consumption(kWh)\"]]"
   ]
  },
  {
   "cell_type": "code",
   "execution_count": 6,
   "metadata": {},
   "outputs": [
    {
     "data": {
      "text/html": [
       "<div>\n",
       "<style scoped>\n",
       "    .dataframe tbody tr th:only-of-type {\n",
       "        vertical-align: middle;\n",
       "    }\n",
       "\n",
       "    .dataframe tbody tr th {\n",
       "        vertical-align: top;\n",
       "    }\n",
       "\n",
       "    .dataframe thead th {\n",
       "        text-align: right;\n",
       "    }\n",
       "</style>\n",
       "<table border=\"1\" class=\"dataframe\">\n",
       "  <thead>\n",
       "    <tr style=\"text-align: right;\">\n",
       "      <th></th>\n",
       "      <th></th>\n",
       "      <th></th>\n",
       "      <th></th>\n",
       "      <th></th>\n",
       "      <th></th>\n",
       "      <th></th>\n",
       "      <th>tool_energy_consumption(kWh)</th>\n",
       "    </tr>\n",
       "    <tr>\n",
       "      <th>gradient_accumulation_steps</th>\n",
       "      <th>model_version</th>\n",
       "      <th>train_batch_size</th>\n",
       "      <th>node</th>\n",
       "      <th>num_train_epochs</th>\n",
       "      <th>max_train_samples</th>\n",
       "      <th>resolution</th>\n",
       "      <th></th>\n",
       "    </tr>\n",
       "  </thead>\n",
       "  <tbody>\n",
       "    <tr>\n",
       "      <th rowspan=\"16\" valign=\"top\">2.0</th>\n",
       "      <th rowspan=\"16\" valign=\"top\">v1-1</th>\n",
       "      <th rowspan=\"16\" valign=\"top\">4.0</th>\n",
       "      <th rowspan=\"16\" valign=\"top\">sirius-1</th>\n",
       "      <th rowspan=\"3\" valign=\"top\">1.0</th>\n",
       "      <th>400.0</th>\n",
       "      <th>512</th>\n",
       "      <td>9</td>\n",
       "    </tr>\n",
       "    <tr>\n",
       "      <th>600.0</th>\n",
       "      <th>512</th>\n",
       "      <td>9</td>\n",
       "    </tr>\n",
       "    <tr>\n",
       "      <th>800.0</th>\n",
       "      <th>512</th>\n",
       "      <td>9</td>\n",
       "    </tr>\n",
       "    <tr>\n",
       "      <th rowspan=\"3\" valign=\"top\">5.0</th>\n",
       "      <th>400.0</th>\n",
       "      <th>512</th>\n",
       "      <td>9</td>\n",
       "    </tr>\n",
       "    <tr>\n",
       "      <th>600.0</th>\n",
       "      <th>512</th>\n",
       "      <td>9</td>\n",
       "    </tr>\n",
       "    <tr>\n",
       "      <th>800.0</th>\n",
       "      <th>512</th>\n",
       "      <td>9</td>\n",
       "    </tr>\n",
       "    <tr>\n",
       "      <th rowspan=\"3\" valign=\"top\">10.0</th>\n",
       "      <th>400.0</th>\n",
       "      <th>512</th>\n",
       "      <td>9</td>\n",
       "    </tr>\n",
       "    <tr>\n",
       "      <th>600.0</th>\n",
       "      <th>512</th>\n",
       "      <td>9</td>\n",
       "    </tr>\n",
       "    <tr>\n",
       "      <th>800.0</th>\n",
       "      <th>512</th>\n",
       "      <td>8</td>\n",
       "    </tr>\n",
       "    <tr>\n",
       "      <th rowspan=\"3\" valign=\"top\">100.0</th>\n",
       "      <th>400.0</th>\n",
       "      <th>512</th>\n",
       "      <td>2</td>\n",
       "    </tr>\n",
       "    <tr>\n",
       "      <th>600.0</th>\n",
       "      <th>512</th>\n",
       "      <td>2</td>\n",
       "    </tr>\n",
       "    <tr>\n",
       "      <th>800.0</th>\n",
       "      <th>512</th>\n",
       "      <td>2</td>\n",
       "    </tr>\n",
       "    <tr>\n",
       "      <th>250.0</th>\n",
       "      <th>500.0</th>\n",
       "      <th>512</th>\n",
       "      <td>1</td>\n",
       "    </tr>\n",
       "    <tr>\n",
       "      <th rowspan=\"3\" valign=\"top\">500.0</th>\n",
       "      <th>400.0</th>\n",
       "      <th>512</th>\n",
       "      <td>1</td>\n",
       "    </tr>\n",
       "    <tr>\n",
       "      <th>600.0</th>\n",
       "      <th>512</th>\n",
       "      <td>1</td>\n",
       "    </tr>\n",
       "    <tr>\n",
       "      <th>800.0</th>\n",
       "      <th>512</th>\n",
       "      <td>1</td>\n",
       "    </tr>\n",
       "  </tbody>\n",
       "</table>\n",
       "</div>"
      ],
      "text/plain": [
       "                                                                                                                   tool_energy_consumption(kWh)\n",
       "gradient_accumulation_steps model_version train_batch_size node     num_train_epochs max_train_samples resolution                              \n",
       "2.0                         v1-1          4.0              sirius-1 1.0              400.0             512                                    9\n",
       "                                                                                     600.0             512                                    9\n",
       "                                                                                     800.0             512                                    9\n",
       "                                                                    5.0              400.0             512                                    9\n",
       "                                                                                     600.0             512                                    9\n",
       "                                                                                     800.0             512                                    9\n",
       "                                                                    10.0             400.0             512                                    9\n",
       "                                                                                     600.0             512                                    9\n",
       "                                                                                     800.0             512                                    8\n",
       "                                                                    100.0            400.0             512                                    2\n",
       "                                                                                     600.0             512                                    2\n",
       "                                                                                     800.0             512                                    2\n",
       "                                                                    250.0            500.0             512                                    1\n",
       "                                                                    500.0            400.0             512                                    1\n",
       "                                                                                     600.0             512                                    1\n",
       "                                                                                     800.0             512                                    1"
      ]
     },
     "execution_count": 6,
     "metadata": {},
     "output_type": "execute_result"
    }
   ],
   "source": [
    "exp_table[exp_table[\"resolution\"]==512].groupby([\n",
    "         'gradient_accumulation_steps','model_version', 'train_batch_size',\n",
    "        \"node\", 'num_train_epochs','max_train_samples','resolution',\n",
    "       # 'seed'\n",
    "       ]).count()[[\"tool_energy_consumption(kWh)\"]]"
   ]
  },
  {
   "cell_type": "code",
   "execution_count": 14,
   "metadata": {},
   "outputs": [
    {
     "data": {
      "text/plain": [
       "<AxesSubplot:xlabel='num_train_epochs', ylabel='wattmetre_exp_energy_consumption(kWh)'>"
      ]
     },
     "execution_count": 14,
     "metadata": {},
     "output_type": "execute_result"
    },
    {
     "data": {
      "image/png": "[encoded data removed]",
      "text/plain": [
       "<Figure size 432x288 with 1 Axes>"
      ]
     },
     "metadata": {
      "needs_background": "light"
     },
     "output_type": "display_data"
    }
   ],
   "source": [
    "sns.barplot(data=exp_table[exp_table[\"resolution\"]==512], x=\"num_train_epochs\", y=\"wattmetre_exp_energy_consumption(kWh)\", hue=\"max_train_samples\")"
   ]
  },
  {
   "cell_type": "markdown",
   "metadata": {},
   "source": [
    "## Regression in the number of samples used for the training"
   ]
  },
  {
   "cell_type": "code",
   "execution_count": 8,
   "metadata": {},
   "outputs": [
    {
     "name": "stdout",
     "output_type": "stream",
     "text": [
      "average over model version\n"
     ]
    },
    {
     "data": {
      "text/html": [
       "<div>\n",
       "<style scoped>\n",
       "    .dataframe tbody tr th:only-of-type {\n",
       "        vertical-align: middle;\n",
       "    }\n",
       "\n",
       "    .dataframe tbody tr th {\n",
       "        vertical-align: top;\n",
       "    }\n",
       "\n",
       "    .dataframe thead tr th {\n",
       "        text-align: left;\n",
       "    }\n",
       "\n",
       "    .dataframe thead tr:last-of-type th {\n",
       "        text-align: right;\n",
       "    }\n",
       "</style>\n",
       "<table border=\"1\" class=\"dataframe\">\n",
       "  <thead>\n",
       "    <tr>\n",
       "      <th></th>\n",
       "      <th colspan=\"2\" halign=\"left\">wattmetre_exp_energy_consumption(kWh)</th>\n",
       "    </tr>\n",
       "    <tr>\n",
       "      <th></th>\n",
       "      <th>mean</th>\n",
       "      <th>var</th>\n",
       "    </tr>\n",
       "    <tr>\n",
       "      <th>max_train_samples</th>\n",
       "      <th></th>\n",
       "      <th></th>\n",
       "    </tr>\n",
       "  </thead>\n",
       "  <tbody>\n",
       "    <tr>\n",
       "      <th>400.0</th>\n",
       "      <td>0.497787</td>\n",
       "      <td>5.861345e-05</td>\n",
       "    </tr>\n",
       "    <tr>\n",
       "      <th>600.0</th>\n",
       "      <td>0.685686</td>\n",
       "      <td>5.439034e-08</td>\n",
       "    </tr>\n",
       "    <tr>\n",
       "      <th>800.0</th>\n",
       "      <td>0.839842</td>\n",
       "      <td>2.319802e-05</td>\n",
       "    </tr>\n",
       "  </tbody>\n",
       "</table>\n",
       "</div>"
      ],
      "text/plain": [
       "                  wattmetre_exp_energy_consumption(kWh)              \n",
       "                                                   mean           var\n",
       "max_train_samples                                                    \n",
       "400.0                                          0.497787  5.861345e-05\n",
       "600.0                                          0.685686  5.439034e-08\n",
       "800.0                                          0.839842  2.319802e-05"
      ]
     },
     "execution_count": 8,
     "metadata": {},
     "output_type": "execute_result"
    }
   ],
   "source": [
    "# si on suppose que la version du modèle n'impacte pas l'énergie consommée\n",
    "print(\"average over model version\")\n",
    "exp_table[(exp_table[\"resolution\"]==256)&(exp_table[\"num_train_epochs\"]==100)].groupby([\n",
    "       'max_train_samples']).aggregate(['mean', 'var'])[[\"wattmetre_exp_energy_consumption(kWh)\"]]"
   ]
  },
  {
   "cell_type": "markdown",
   "metadata": {},
   "source": [
    "### Compute the preprocessing cost"
   ]
  },
  {
   "cell_type": "code",
   "execution_count": 9,
   "metadata": {},
   "outputs": [
    {
     "name": "stdout",
     "output_type": "stream",
     "text": [
      "Epochs: 1\n",
      "1.1441206404017926e-05\n",
      "[0.15825346]\n",
      "Epochs: 10\n",
      "7.289341513143324e-05\n",
      "[0.16614226]\n",
      "Epochs: 100\n",
      "0.0008551392501194675\n",
      "[0.16135472]\n",
      "Epochs: 500\n",
      "0.004022840657422008\n",
      "[0.39111062]\n"
     ]
    }
   ],
   "source": [
    "coefs = []\n",
    "origins = []\n",
    "for epochs in [1,10,100,500]:\n",
    "    print(f\"Epochs: {epochs}\")\n",
    "    table = exp_table[(exp_table[\"resolution\"]==256)&(exp_table[\"num_train_epochs\"]==epochs)].groupby([\n",
    "        'max_train_samples']).aggregate(['mean'])[[\"wattmetre_exp_energy_consumption(kWh)\"]]\n",
    "\n",
    "    X = np.array([np.array(x) for x in table.index]).reshape(-1, 1)\n",
    "    y = table.values\n",
    "\n",
    "    reg = LinearRegression().fit(X, y)\n",
    "    print(reg.coef_[0][0])\n",
    "    print(reg.intercept_)\n",
    "    coefs.append(reg.coef_[0][0])\n",
    "    origins.append(reg.intercept_[0])"
   ]
  },
  {
   "cell_type": "code",
   "execution_count": 10,
   "metadata": {},
   "outputs": [
    {
     "name": "stdout",
     "output_type": "stream",
     "text": [
      "0.2192\n"
     ]
    },
    {
     "data": {
      "text/plain": [
       "0.009857235052269342"
      ]
     },
     "execution_count": 10,
     "metadata": {},
     "output_type": "execute_result"
    }
   ],
   "source": [
    "origin = np.mean(origins)\n",
    "print(np.round(origin,4))\n",
    "np.var(origins)"
   ]
  },
  {
   "cell_type": "markdown",
   "metadata": {},
   "source": [
    "### Remove origin and evaluate energy_per_epoch"
   ]
  },
  {
   "cell_type": "code",
   "execution_count": 11,
   "metadata": {},
   "outputs": [],
   "source": [
    "img_size = 256"
   ]
  },
  {
   "cell_type": "code",
   "execution_count": 12,
   "metadata": {},
   "outputs": [],
   "source": [
    "exp_table[\"without_preproc_wattmetre_exp_energy_consumption(kWh)\"] = exp_table[\"wattmetre_exp_energy_consumption(kWh)\"] - 0.1619\n",
    "exp_table[\"per_epoch_energy_consumption(kWh)\"] = exp_table[\"without_preproc_wattmetre_exp_energy_consumption(kWh)\"]/exp_table[\"num_train_epochs\"] "
   ]
  },
  {
   "cell_type": "code",
   "execution_count": 21,
   "metadata": {},
   "outputs": [
    {
     "data": {
      "image/png": "[encoded data removed]",
      "text/plain": [
       "<Figure size 432x288 with 1 Axes>"
      ]
     },
     "metadata": {},
     "output_type": "display_data"
    }
   ],
   "source": [
    "ax = sns.barplot(data=exp_table[(exp_table[\"resolution\"]==512)], #&(exp_table[\"num_train_epochs\"]!=1)], \n",
    "            x=\"num_train_epochs\", \n",
    "            y=\"per_epoch_energy_consumption(kWh)\", \n",
    "            hue=\"max_train_samples\"\n",
    "            )\n",
    "sns.move_legend(ax, \"upper left\", bbox_to_anchor=(1, 1))"
   ]
  },
  {
   "cell_type": "code",
   "execution_count": 36,
   "metadata": {},
   "outputs": [
    {
     "name": "stdout",
     "output_type": "stream",
     "text": [
      "Epochs: 5\n",
      "2.7567320404070543e-05\n",
      "Epochs: 10\n",
      "2.7404075600114534e-05\n",
      "Epochs: 100\n",
      "2.6789691714623775e-05\n",
      "Epochs: 500\n",
      "2.765911550197251e-05\n"
     ]
    }
   ],
   "source": [
    "coefs = []\n",
    "origins = []\n",
    "for epochs in [5, 10,100,500]:\n",
    "    print(f\"Epochs: {epochs}\")\n",
    "    table = exp_table[(exp_table[\"resolution\"]==img_size)&(exp_table[\"num_train_epochs\"]==epochs)].groupby([\n",
    "        'max_train_samples']).aggregate(['mean'])[[\"per_epoch_energy_consumption(kWh)\"]]\n",
    "\n",
    "    X = np.array([np.array(x) for x in table.index]).reshape(-1, 1)\n",
    "    y = table.values\n",
    "\n",
    "    reg = LinearRegression().fit(X, y)\n",
    "    print(reg.coef_[0][0])\n",
    "    coefs.append(reg)"
   ]
  },
  {
   "cell_type": "code",
   "execution_count": 38,
   "metadata": {},
   "outputs": [
    {
     "data": {
      "text/plain": [
       "<matplotlib.legend.Legend at 0x7f47bc9ab590>"
      ]
     },
     "execution_count": 38,
     "metadata": {},
     "output_type": "execute_result"
    },
    {
     "data": {
      "image/png": "[encoded data removed]",
      "text/plain": [
       "<Figure size 504x360 with 1 Axes>"
      ]
     },
     "metadata": {},
     "output_type": "display_data"
    }
   ],
   "source": [
    "fig, ax = plt.subplots(figsize=(7,5))\n",
    "index = [0,400,600,800,1000]\n",
    "index = np.array([np.array(x) for x in index]).reshape(-1, 1)\n",
    "for epoch_id, epochs in enumerate([5, 10,100,500]):\n",
    "    prop = coefs[epoch_id].predict(index) - coefs[epoch_id].intercept_\n",
    "    ax.plot(index, prop, label=epochs)\n",
    "ax.legend()"
   ]
  },
  {
   "cell_type": "code",
   "execution_count": 16,
   "metadata": {},
   "outputs": [
    {
     "name": "stderr",
     "output_type": "stream",
     "text": [
      "No artists with labels found to put in legend.  Note that artists whose label start with an underscore are ignored when legend() is called with no argument.\n"
     ]
    },
    {
     "name": "stdout",
     "output_type": "stream",
     "text": [
      "[[400.]\n",
      " [500.]\n",
      " [600.]\n",
      " [800.]]\n",
      "[[0.30594647]\n",
      " [1.27115543]\n",
      " [0.37912479]\n",
      " [0.36264838]]\n",
      "-0.0006606089712289996\n"
     ]
    },
    {
     "data": {
      "text/plain": [
       "<matplotlib.legend.Legend at 0x7f47bd55d8d0>"
      ]
     },
     "execution_count": 16,
     "metadata": {},
     "output_type": "execute_result"
    },
    {
     "data": {
      "image/png": "[encoded data removed]",
      "text/plain": [
       "<Figure size 504x360 with 1 Axes>"
      ]
     },
     "metadata": {
      "needs_background": "light"
     },
     "output_type": "display_data"
    }
   ],
   "source": [
    "fig, ax = plt.subplots(figsize=(7,5))\n",
    "\n",
    "table = exp_table[(exp_table[\"resolution\"]==img_size)].groupby([\n",
    "        'max_train_samples'])[[\"wattmetre_exp_energy_consumption(kWh)\"]]\n",
    "X = np.array([np.array(x) for x in table.mean().index]).reshape(-1, 1)\n",
    "y = table.mean().values\n",
    "print(X)\n",
    "print(y)\n",
    "reg = LinearRegression().fit(X, y)\n",
    "print(reg.coef_[0][0])\n",
    "\n",
    "index = [0,400,600,800,1000]\n",
    "index = np.array([np.array(x) for x in index]).reshape(-1, 1)\n",
    "# y = [x*reg.coef_[0][0] for x in index]\n",
    "y = reg.predict(index)\n",
    "ax.plot(index, y)\n",
    "\n",
    "ax.legend()"
   ]
  },
  {
   "cell_type": "code",
   "execution_count": 17,
   "metadata": {},
   "outputs": [
    {
     "name": "stdout",
     "output_type": "stream",
     "text": [
      "Equation for image size of 256: energy consumed (kWh) = 8.551393e-06 x number of samples x number of steps\n",
      "Equation for image size of 512: energy consumed (kWh) = 2.678969e-05 x number of samples x number of steps\n"
     ]
    }
   ],
   "source": [
    "print(\"Equation for image size of 256: energy consumed (kWh) = \" + \\\n",
    "    f\"{8.55139250119468e-06:e} x number of samples x number of steps\")\n",
    "\n",
    "print(\"Equation for image size of 512: energy consumed (kWh) = \" + \\\n",
    "    f\"{2.6789691714623775e-05:e} x number of samples x number of steps\")\n"
   ]
  },
  {
   "cell_type": "code",
   "execution_count": null,
   "metadata": {},
   "outputs": [],
   "source": []
  },
  {
   "cell_type": "markdown",
   "metadata": {},
   "source": [
    "## Using only the number of steps"
   ]
  },
  {
   "cell_type": "code",
   "execution_count": 18,
   "metadata": {},
   "outputs": [],
   "source": [
    "import math\n",
    "def compute_steps(row):\n",
    "    update_per_epoch = math.ceil(row[\"max_train_samples\"]/(row[\"gradient_accumulation_steps\"]*row[\"train_batch_size\"]*row[\"gpu_count\"]))\n",
    "    return row[\"num_train_epochs\"]*update_per_epoch\n",
    "\n",
    "exp_table[\"num_steps\"] = exp_table.apply(compute_steps, axis=1)"
   ]
  },
  {
   "cell_type": "code",
   "execution_count": 33,
   "metadata": {},
   "outputs": [
    {
     "data": {
      "image/png": "[encoded data removed]",
      "text/plain": [
       "<Figure size 485.8x360 with 1 Axes>"
      ]
     },
     "metadata": {},
     "output_type": "display_data"
    }
   ],
   "source": [
    "\n",
    "sns.set_theme(style=\"whitegrid\")\n",
    "sns.color_palette(\"tab10\")\n",
    "\n",
    "sns.relplot(data=exp_table[(exp_table[\"resolution\"]==512)&(exp_table[\"num_steps\"]<5000)], x=\"num_steps\", y=\"wattmetre_exp_energy_consumption(kWh)\", hue=\"max_train_samples\", palette=\"tab10\")\n",
    "plt.xscale('log')"
   ]
  },
  {
   "cell_type": "code",
   "execution_count": 32,
   "metadata": {},
   "outputs": [
    {
     "name": "stdout",
     "output_type": "stream",
     "text": [
      "0.0017706343087111431\n",
      "0.16515983863878425\n"
     ]
    },
    {
     "data": {
      "image/png": "[encoded data removed]",
      "text/plain": [
       "<Figure size 504x360 with 1 Axes>"
      ]
     },
     "metadata": {},
     "output_type": "display_data"
    }
   ],
   "source": [
    "fig, ax = plt.subplots(figsize=(7,5))\n",
    "\n",
    "img_size = 512\n",
    "\n",
    "table = exp_table[(exp_table[\"resolution\"]==img_size)&(exp_table[\"num_steps\"]<6000)].groupby([\n",
    "        'num_steps'])[[\"wattmetre_exp_energy_consumption(kWh)\"]]\n",
    "\n",
    "X = np.array([np.array(x) for x in table.mean().index]).reshape(-1, 1)\n",
    "y = table.mean().values\n",
    "\n",
    "reg = LinearRegression().fit(X, y)\n",
    "\n",
    "print(reg.coef_[0][0])\n",
    "print(reg.intercept_[0])\n",
    "\n",
    "#  lmplot\n",
    "ax = sns.regplot(data=exp_table[(exp_table[\"resolution\"]==img_size)&(exp_table[\"num_steps\"]<6000)],\n",
    "            x=\"num_steps\",\n",
    "            y=\"wattmetre_exp_energy_consumption(kWh)\",\n",
    "            # hue=\"resolution\",\n",
    "            line_kws={'label':\"y={0:e}x+{1:e}\".format(reg.coef_[0][0],reg.intercept_[0])})\n",
    "ax.legend()\n",
    "plt.xscale('log')\n"
   ]
  }
 ],
 "metadata": {
  "kernelspec": {
   "display_name": "gpu_benchmark",
   "language": "python",
   "name": "python3"
  },
  "language_info": {
   "codemirror_mode": {
    "name": "ipython",
    "version": 3
   },
   "file_extension": ".py",
   "mimetype": "text/x-python",
   "name": "python",
   "nbconvert_exporter": "python",
   "pygments_lexer": "ipython3",
   "version": "3.10.12"
  },
  "orig_nbformat": 4
 },
 "nbformat": 4,
 "nbformat_minor": 2
}
