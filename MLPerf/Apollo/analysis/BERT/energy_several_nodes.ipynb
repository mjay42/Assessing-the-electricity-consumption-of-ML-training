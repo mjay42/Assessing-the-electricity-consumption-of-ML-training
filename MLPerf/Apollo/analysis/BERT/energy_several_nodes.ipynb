{
 "cells": [
  {
   "cell_type": "code",
   "execution_count": 1,
   "metadata": {},
   "outputs": [],
   "source": [
    "import pandas as pd\n",
    "import matplotlib.pyplot as plt\n",
    "import seaborn as sns\n",
    "\n",
    "logs = # TO FILL\n",
    "processed_log_dir = f\"{logs}/resultats_11-23_processed\"\n",
    "save_dir = f\"{processed_log_dir}/bert/\"\n",
    "\n",
    "job_file = save_dir+\"/summary.csv\"\n",
    "energy_file = save_dir+\"/energy.csv\"\n",
    "jobs = pd.read_csv(job_file).drop(columns=[\"Unnamed: 0\"])\n",
    "\n",
    "import sys\n",
    "sys.path.append(\"../../../logging/mlperf_logging/\")\n",
    "\n",
    "from compliance_checker.mlp_parser import parse_file"
   ]
  },
  {
   "cell_type": "markdown",
   "metadata": {},
   "source": [
    "# Preprocessing"
   ]
  },
  {
   "cell_type": "code",
   "execution_count": 2,
   "metadata": {},
   "outputs": [],
   "source": [
    "jobs[\"sub_num-sample\"] = jobs[\"sub_num-sample\"].fillna(14000000)\n",
    "jobs[\"cmd_train_batch_size\"] = jobs[\"cmd_train_batch_size\"].astype(int)\n",
    "jobs[\"cmd_max_samples_termination\"] = jobs[\"cmd_max_samples_termination\"].astype(int)\n",
    "\n",
    "# Computing the total number of images processed, which seems like the most relevant metric regarding energy consumption\n",
    "jobs[\"total_batch_size\"]=jobs[\"mllog_d_batch_size\"]*jobs[\"node_nb\"]*8\n",
    "jobs[\"images_processed\"] = jobs[\"block_nb\"]*jobs[\"mllog_global_batch_size\"]"
   ]
  },
  {
   "cell_type": "code",
   "execution_count": 3,
   "metadata": {},
   "outputs": [],
   "source": [
    "jobs = jobs[(jobs[\"sub_num-sample\"]==14000000)&(jobs[\"sub_seed\"].notna())]"
   ]
  },
  {
   "cell_type": "code",
   "execution_count": 4,
   "metadata": {},
   "outputs": [],
   "source": [
    "import os \n",
    "job_nodes = {}\n",
    "all_nodes = []\n",
    "for job in jobs[\"job_id\"]:\n",
    "    path = os.path.join(\"/Users/mathildepro/Documents/code_projects/hpe_logs/resultats-17-07-23/bert\", str(job))\n",
    "    nodes = [f for f in os.listdir(path) if \"o186\" in f]\n",
    "    job_nodes[job] = {}\n",
    "    for node in nodes:\n",
    "        job_nodes[job][node] = True\n",
    "job_nodes = pd.DataFrame(job_nodes).sort_index().T.fillna(False)"
   ]
  },
  {
   "cell_type": "code",
   "execution_count": 5,
   "metadata": {},
   "outputs": [],
   "source": [
    "renaming_cols = {}\n",
    "for col in job_nodes.columns:\n",
    "    renaming_cols[col] = col[-2:]\n",
    "job_nodes = job_nodes.rename(columns=renaming_cols)"
   ]
  },
  {
   "cell_type": "code",
   "execution_count": 6,
   "metadata": {},
   "outputs": [
    {
     "name": "stderr",
     "output_type": "stream",
     "text": [
      "/var/folders/yq/7v824pz907x0d1tjqclbqmn80000gn/T/ipykernel_29027/1834120918.py:1: FutureWarning: Styler.applymap has been deprecated. Use Styler.map instead.\n",
      "  job_nodes.style.applymap(lambda x: 'background-color : green' if x else '')\n"
     ]
    },
    {
     "data": {
      "text/html": [
       "<style type=\"text/css\">\n",
       "#T_a90cc_row0_col2, #T_a90cc_row0_col3, #T_a90cc_row0_col6, #T_a90cc_row0_col7, #T_a90cc_row1_col0, #T_a90cc_row1_col1, #T_a90cc_row1_col4, #T_a90cc_row1_col5, #T_a90cc_row2_col2, #T_a90cc_row2_col3, #T_a90cc_row2_col6, #T_a90cc_row2_col7, #T_a90cc_row3_col0, #T_a90cc_row3_col1, #T_a90cc_row3_col4, #T_a90cc_row3_col5, #T_a90cc_row4_col2, #T_a90cc_row4_col3, #T_a90cc_row4_col6, #T_a90cc_row4_col7, #T_a90cc_row5_col1, #T_a90cc_row6_col5, #T_a90cc_row7_col6, #T_a90cc_row8_col3, #T_a90cc_row9_col7, #T_a90cc_row10_col1, #T_a90cc_row10_col2, #T_a90cc_row11_col4, #T_a90cc_row11_col5, #T_a90cc_row12_col3, #T_a90cc_row12_col6, #T_a90cc_row13_col0, #T_a90cc_row13_col7, #T_a90cc_row14_col1, #T_a90cc_row14_col2 {\n",
       "  background-color: green;\n",
       "}\n",
       "</style>\n",
       "<table id=\"T_a90cc\">\n",
       "  <thead>\n",
       "    <tr>\n",
       "      <th class=\"blank level0\" >&nbsp;</th>\n",
       "      <th id=\"T_a90cc_level0_col0\" class=\"col_heading level0 col0\" >21</th>\n",
       "      <th id=\"T_a90cc_level0_col1\" class=\"col_heading level0 col1\" >22</th>\n",
       "      <th id=\"T_a90cc_level0_col2\" class=\"col_heading level0 col2\" >23</th>\n",
       "      <th id=\"T_a90cc_level0_col3\" class=\"col_heading level0 col3\" >24</th>\n",
       "      <th id=\"T_a90cc_level0_col4\" class=\"col_heading level0 col4\" >25</th>\n",
       "      <th id=\"T_a90cc_level0_col5\" class=\"col_heading level0 col5\" >26</th>\n",
       "      <th id=\"T_a90cc_level0_col6\" class=\"col_heading level0 col6\" >27</th>\n",
       "      <th id=\"T_a90cc_level0_col7\" class=\"col_heading level0 col7\" >31</th>\n",
       "    </tr>\n",
       "  </thead>\n",
       "  <tbody>\n",
       "    <tr>\n",
       "      <th id=\"T_a90cc_level0_row0\" class=\"row_heading level0 row0\" >111768</th>\n",
       "      <td id=\"T_a90cc_row0_col0\" class=\"data row0 col0\" >False</td>\n",
       "      <td id=\"T_a90cc_row0_col1\" class=\"data row0 col1\" >False</td>\n",
       "      <td id=\"T_a90cc_row0_col2\" class=\"data row0 col2\" >True</td>\n",
       "      <td id=\"T_a90cc_row0_col3\" class=\"data row0 col3\" >True</td>\n",
       "      <td id=\"T_a90cc_row0_col4\" class=\"data row0 col4\" >False</td>\n",
       "      <td id=\"T_a90cc_row0_col5\" class=\"data row0 col5\" >False</td>\n",
       "      <td id=\"T_a90cc_row0_col6\" class=\"data row0 col6\" >True</td>\n",
       "      <td id=\"T_a90cc_row0_col7\" class=\"data row0 col7\" >True</td>\n",
       "    </tr>\n",
       "    <tr>\n",
       "      <th id=\"T_a90cc_level0_row1\" class=\"row_heading level0 row1\" >111769</th>\n",
       "      <td id=\"T_a90cc_row1_col0\" class=\"data row1 col0\" >True</td>\n",
       "      <td id=\"T_a90cc_row1_col1\" class=\"data row1 col1\" >True</td>\n",
       "      <td id=\"T_a90cc_row1_col2\" class=\"data row1 col2\" >False</td>\n",
       "      <td id=\"T_a90cc_row1_col3\" class=\"data row1 col3\" >False</td>\n",
       "      <td id=\"T_a90cc_row1_col4\" class=\"data row1 col4\" >True</td>\n",
       "      <td id=\"T_a90cc_row1_col5\" class=\"data row1 col5\" >True</td>\n",
       "      <td id=\"T_a90cc_row1_col6\" class=\"data row1 col6\" >False</td>\n",
       "      <td id=\"T_a90cc_row1_col7\" class=\"data row1 col7\" >False</td>\n",
       "    </tr>\n",
       "    <tr>\n",
       "      <th id=\"T_a90cc_level0_row2\" class=\"row_heading level0 row2\" >111770</th>\n",
       "      <td id=\"T_a90cc_row2_col0\" class=\"data row2 col0\" >False</td>\n",
       "      <td id=\"T_a90cc_row2_col1\" class=\"data row2 col1\" >False</td>\n",
       "      <td id=\"T_a90cc_row2_col2\" class=\"data row2 col2\" >True</td>\n",
       "      <td id=\"T_a90cc_row2_col3\" class=\"data row2 col3\" >True</td>\n",
       "      <td id=\"T_a90cc_row2_col4\" class=\"data row2 col4\" >False</td>\n",
       "      <td id=\"T_a90cc_row2_col5\" class=\"data row2 col5\" >False</td>\n",
       "      <td id=\"T_a90cc_row2_col6\" class=\"data row2 col6\" >True</td>\n",
       "      <td id=\"T_a90cc_row2_col7\" class=\"data row2 col7\" >True</td>\n",
       "    </tr>\n",
       "    <tr>\n",
       "      <th id=\"T_a90cc_level0_row3\" class=\"row_heading level0 row3\" >111771</th>\n",
       "      <td id=\"T_a90cc_row3_col0\" class=\"data row3 col0\" >True</td>\n",
       "      <td id=\"T_a90cc_row3_col1\" class=\"data row3 col1\" >True</td>\n",
       "      <td id=\"T_a90cc_row3_col2\" class=\"data row3 col2\" >False</td>\n",
       "      <td id=\"T_a90cc_row3_col3\" class=\"data row3 col3\" >False</td>\n",
       "      <td id=\"T_a90cc_row3_col4\" class=\"data row3 col4\" >True</td>\n",
       "      <td id=\"T_a90cc_row3_col5\" class=\"data row3 col5\" >True</td>\n",
       "      <td id=\"T_a90cc_row3_col6\" class=\"data row3 col6\" >False</td>\n",
       "      <td id=\"T_a90cc_row3_col7\" class=\"data row3 col7\" >False</td>\n",
       "    </tr>\n",
       "    <tr>\n",
       "      <th id=\"T_a90cc_level0_row4\" class=\"row_heading level0 row4\" >111772</th>\n",
       "      <td id=\"T_a90cc_row4_col0\" class=\"data row4 col0\" >False</td>\n",
       "      <td id=\"T_a90cc_row4_col1\" class=\"data row4 col1\" >False</td>\n",
       "      <td id=\"T_a90cc_row4_col2\" class=\"data row4 col2\" >True</td>\n",
       "      <td id=\"T_a90cc_row4_col3\" class=\"data row4 col3\" >True</td>\n",
       "      <td id=\"T_a90cc_row4_col4\" class=\"data row4 col4\" >False</td>\n",
       "      <td id=\"T_a90cc_row4_col5\" class=\"data row4 col5\" >False</td>\n",
       "      <td id=\"T_a90cc_row4_col6\" class=\"data row4 col6\" >True</td>\n",
       "      <td id=\"T_a90cc_row4_col7\" class=\"data row4 col7\" >True</td>\n",
       "    </tr>\n",
       "    <tr>\n",
       "      <th id=\"T_a90cc_level0_row5\" class=\"row_heading level0 row5\" >111788</th>\n",
       "      <td id=\"T_a90cc_row5_col0\" class=\"data row5 col0\" >False</td>\n",
       "      <td id=\"T_a90cc_row5_col1\" class=\"data row5 col1\" >True</td>\n",
       "      <td id=\"T_a90cc_row5_col2\" class=\"data row5 col2\" >False</td>\n",
       "      <td id=\"T_a90cc_row5_col3\" class=\"data row5 col3\" >False</td>\n",
       "      <td id=\"T_a90cc_row5_col4\" class=\"data row5 col4\" >False</td>\n",
       "      <td id=\"T_a90cc_row5_col5\" class=\"data row5 col5\" >False</td>\n",
       "      <td id=\"T_a90cc_row5_col6\" class=\"data row5 col6\" >False</td>\n",
       "      <td id=\"T_a90cc_row5_col7\" class=\"data row5 col7\" >False</td>\n",
       "    </tr>\n",
       "    <tr>\n",
       "      <th id=\"T_a90cc_level0_row6\" class=\"row_heading level0 row6\" >111789</th>\n",
       "      <td id=\"T_a90cc_row6_col0\" class=\"data row6 col0\" >False</td>\n",
       "      <td id=\"T_a90cc_row6_col1\" class=\"data row6 col1\" >False</td>\n",
       "      <td id=\"T_a90cc_row6_col2\" class=\"data row6 col2\" >False</td>\n",
       "      <td id=\"T_a90cc_row6_col3\" class=\"data row6 col3\" >False</td>\n",
       "      <td id=\"T_a90cc_row6_col4\" class=\"data row6 col4\" >False</td>\n",
       "      <td id=\"T_a90cc_row6_col5\" class=\"data row6 col5\" >True</td>\n",
       "      <td id=\"T_a90cc_row6_col6\" class=\"data row6 col6\" >False</td>\n",
       "      <td id=\"T_a90cc_row6_col7\" class=\"data row6 col7\" >False</td>\n",
       "    </tr>\n",
       "    <tr>\n",
       "      <th id=\"T_a90cc_level0_row7\" class=\"row_heading level0 row7\" >111790</th>\n",
       "      <td id=\"T_a90cc_row7_col0\" class=\"data row7 col0\" >False</td>\n",
       "      <td id=\"T_a90cc_row7_col1\" class=\"data row7 col1\" >False</td>\n",
       "      <td id=\"T_a90cc_row7_col2\" class=\"data row7 col2\" >False</td>\n",
       "      <td id=\"T_a90cc_row7_col3\" class=\"data row7 col3\" >False</td>\n",
       "      <td id=\"T_a90cc_row7_col4\" class=\"data row7 col4\" >False</td>\n",
       "      <td id=\"T_a90cc_row7_col5\" class=\"data row7 col5\" >False</td>\n",
       "      <td id=\"T_a90cc_row7_col6\" class=\"data row7 col6\" >True</td>\n",
       "      <td id=\"T_a90cc_row7_col7\" class=\"data row7 col7\" >False</td>\n",
       "    </tr>\n",
       "    <tr>\n",
       "      <th id=\"T_a90cc_level0_row8\" class=\"row_heading level0 row8\" >111791</th>\n",
       "      <td id=\"T_a90cc_row8_col0\" class=\"data row8 col0\" >False</td>\n",
       "      <td id=\"T_a90cc_row8_col1\" class=\"data row8 col1\" >False</td>\n",
       "      <td id=\"T_a90cc_row8_col2\" class=\"data row8 col2\" >False</td>\n",
       "      <td id=\"T_a90cc_row8_col3\" class=\"data row8 col3\" >True</td>\n",
       "      <td id=\"T_a90cc_row8_col4\" class=\"data row8 col4\" >False</td>\n",
       "      <td id=\"T_a90cc_row8_col5\" class=\"data row8 col5\" >False</td>\n",
       "      <td id=\"T_a90cc_row8_col6\" class=\"data row8 col6\" >False</td>\n",
       "      <td id=\"T_a90cc_row8_col7\" class=\"data row8 col7\" >False</td>\n",
       "    </tr>\n",
       "    <tr>\n",
       "      <th id=\"T_a90cc_level0_row9\" class=\"row_heading level0 row9\" >111792</th>\n",
       "      <td id=\"T_a90cc_row9_col0\" class=\"data row9 col0\" >False</td>\n",
       "      <td id=\"T_a90cc_row9_col1\" class=\"data row9 col1\" >False</td>\n",
       "      <td id=\"T_a90cc_row9_col2\" class=\"data row9 col2\" >False</td>\n",
       "      <td id=\"T_a90cc_row9_col3\" class=\"data row9 col3\" >False</td>\n",
       "      <td id=\"T_a90cc_row9_col4\" class=\"data row9 col4\" >False</td>\n",
       "      <td id=\"T_a90cc_row9_col5\" class=\"data row9 col5\" >False</td>\n",
       "      <td id=\"T_a90cc_row9_col6\" class=\"data row9 col6\" >False</td>\n",
       "      <td id=\"T_a90cc_row9_col7\" class=\"data row9 col7\" >True</td>\n",
       "    </tr>\n",
       "    <tr>\n",
       "      <th id=\"T_a90cc_level0_row10\" class=\"row_heading level0 row10\" >111793</th>\n",
       "      <td id=\"T_a90cc_row10_col0\" class=\"data row10 col0\" >False</td>\n",
       "      <td id=\"T_a90cc_row10_col1\" class=\"data row10 col1\" >True</td>\n",
       "      <td id=\"T_a90cc_row10_col2\" class=\"data row10 col2\" >True</td>\n",
       "      <td id=\"T_a90cc_row10_col3\" class=\"data row10 col3\" >False</td>\n",
       "      <td id=\"T_a90cc_row10_col4\" class=\"data row10 col4\" >False</td>\n",
       "      <td id=\"T_a90cc_row10_col5\" class=\"data row10 col5\" >False</td>\n",
       "      <td id=\"T_a90cc_row10_col6\" class=\"data row10 col6\" >False</td>\n",
       "      <td id=\"T_a90cc_row10_col7\" class=\"data row10 col7\" >False</td>\n",
       "    </tr>\n",
       "    <tr>\n",
       "      <th id=\"T_a90cc_level0_row11\" class=\"row_heading level0 row11\" >111794</th>\n",
       "      <td id=\"T_a90cc_row11_col0\" class=\"data row11 col0\" >False</td>\n",
       "      <td id=\"T_a90cc_row11_col1\" class=\"data row11 col1\" >False</td>\n",
       "      <td id=\"T_a90cc_row11_col2\" class=\"data row11 col2\" >False</td>\n",
       "      <td id=\"T_a90cc_row11_col3\" class=\"data row11 col3\" >False</td>\n",
       "      <td id=\"T_a90cc_row11_col4\" class=\"data row11 col4\" >True</td>\n",
       "      <td id=\"T_a90cc_row11_col5\" class=\"data row11 col5\" >True</td>\n",
       "      <td id=\"T_a90cc_row11_col6\" class=\"data row11 col6\" >False</td>\n",
       "      <td id=\"T_a90cc_row11_col7\" class=\"data row11 col7\" >False</td>\n",
       "    </tr>\n",
       "    <tr>\n",
       "      <th id=\"T_a90cc_level0_row12\" class=\"row_heading level0 row12\" >111795</th>\n",
       "      <td id=\"T_a90cc_row12_col0\" class=\"data row12 col0\" >False</td>\n",
       "      <td id=\"T_a90cc_row12_col1\" class=\"data row12 col1\" >False</td>\n",
       "      <td id=\"T_a90cc_row12_col2\" class=\"data row12 col2\" >False</td>\n",
       "      <td id=\"T_a90cc_row12_col3\" class=\"data row12 col3\" >True</td>\n",
       "      <td id=\"T_a90cc_row12_col4\" class=\"data row12 col4\" >False</td>\n",
       "      <td id=\"T_a90cc_row12_col5\" class=\"data row12 col5\" >False</td>\n",
       "      <td id=\"T_a90cc_row12_col6\" class=\"data row12 col6\" >True</td>\n",
       "      <td id=\"T_a90cc_row12_col7\" class=\"data row12 col7\" >False</td>\n",
       "    </tr>\n",
       "    <tr>\n",
       "      <th id=\"T_a90cc_level0_row13\" class=\"row_heading level0 row13\" >111796</th>\n",
       "      <td id=\"T_a90cc_row13_col0\" class=\"data row13 col0\" >True</td>\n",
       "      <td id=\"T_a90cc_row13_col1\" class=\"data row13 col1\" >False</td>\n",
       "      <td id=\"T_a90cc_row13_col2\" class=\"data row13 col2\" >False</td>\n",
       "      <td id=\"T_a90cc_row13_col3\" class=\"data row13 col3\" >False</td>\n",
       "      <td id=\"T_a90cc_row13_col4\" class=\"data row13 col4\" >False</td>\n",
       "      <td id=\"T_a90cc_row13_col5\" class=\"data row13 col5\" >False</td>\n",
       "      <td id=\"T_a90cc_row13_col6\" class=\"data row13 col6\" >False</td>\n",
       "      <td id=\"T_a90cc_row13_col7\" class=\"data row13 col7\" >True</td>\n",
       "    </tr>\n",
       "    <tr>\n",
       "      <th id=\"T_a90cc_level0_row14\" class=\"row_heading level0 row14\" >111797</th>\n",
       "      <td id=\"T_a90cc_row14_col0\" class=\"data row14 col0\" >False</td>\n",
       "      <td id=\"T_a90cc_row14_col1\" class=\"data row14 col1\" >True</td>\n",
       "      <td id=\"T_a90cc_row14_col2\" class=\"data row14 col2\" >True</td>\n",
       "      <td id=\"T_a90cc_row14_col3\" class=\"data row14 col3\" >False</td>\n",
       "      <td id=\"T_a90cc_row14_col4\" class=\"data row14 col4\" >False</td>\n",
       "      <td id=\"T_a90cc_row14_col5\" class=\"data row14 col5\" >False</td>\n",
       "      <td id=\"T_a90cc_row14_col6\" class=\"data row14 col6\" >False</td>\n",
       "      <td id=\"T_a90cc_row14_col7\" class=\"data row14 col7\" >False</td>\n",
       "    </tr>\n",
       "  </tbody>\n",
       "</table>\n"
      ],
      "text/plain": [
       "<pandas.io.formats.style.Styler at 0x108a71f90>"
      ]
     },
     "execution_count": 6,
     "metadata": {},
     "output_type": "execute_result"
    }
   ],
   "source": [
    "job_nodes.style.applymap(lambda x: 'background-color : green' if x else '')"
   ]
  },
  {
   "cell_type": "code",
   "execution_count": 7,
   "metadata": {},
   "outputs": [],
   "source": [
    "for job in jobs.job_id:\n",
    "    x = job_nodes.loc[job]\n",
    "    val = \",\".join(x[x].index)\n",
    "    jobs.loc[jobs[\"job_id\"]==job, \"nodes\"] = val\n"
   ]
  },
  {
   "cell_type": "code",
   "execution_count": 8,
   "metadata": {},
   "outputs": [
    {
     "data": {
      "text/plain": [
       "45    23,24,27,31\n",
       "46    21,22,25,26\n",
       "47    23,24,27,31\n",
       "48    21,22,25,26\n",
       "49    23,24,27,31\n",
       "65             22\n",
       "66             26\n",
       "67             27\n",
       "68             24\n",
       "69             31\n",
       "70          22,23\n",
       "71          25,26\n",
       "72          24,27\n",
       "73          21,31\n",
       "74          22,23\n",
       "Name: nodes, dtype: object"
      ]
     },
     "execution_count": 8,
     "metadata": {},
     "output_type": "execute_result"
    }
   ],
   "source": [
    "jobs[\"nodes\"]"
   ]
  },
  {
   "cell_type": "code",
   "execution_count": 9,
   "metadata": {},
   "outputs": [],
   "source": [
    "jobs[\"duration_total_ms\"] = jobs[\"end_time_ms\"] - jobs[\"start_time_ms\"]\n",
    "jobs[\"duration_srun_ms\"] = jobs[\"end_time_ms\"] - jobs[\"srun_start_time_ms\"]\n",
    "jobs[\"duration_training_ms\"] = jobs[\"train_end_time_ms\"] - jobs[\"srun_start_time_ms\"]\n",
    "jobs[\"duration_total_minutes\"] = jobs[\"duration_total_ms\"]/60000\n",
    "jobs[\"duration_training_per_GPU_minutes\"] = jobs[\"duration_training_ms\"]/60000"
   ]
  },
  {
   "cell_type": "markdown",
   "metadata": {},
   "source": [
    "# Conducted experiments"
   ]
  },
  {
   "cell_type": "code",
   "execution_count": 10,
   "metadata": {},
   "outputs": [
    {
     "data": {
      "text/plain": [
       "node_nb  nodes        sub_seed\n",
       "1        22           51.0        1\n",
       "         24           7.0         1\n",
       "         26           6.0         1\n",
       "         27           42.0        1\n",
       "         31           9998.0      1\n",
       "2        21,31        7.0         1\n",
       "         22,23        51.0        1\n",
       "                      9998.0      1\n",
       "         24,27        42.0        1\n",
       "         25,26        6.0         1\n",
       "4        21,22,25,26  6.0         1\n",
       "                      7.0         1\n",
       "         23,24,27,31  42.0        1\n",
       "                      51.0        1\n",
       "                      9998.0      1\n",
       "Name: job_id, dtype: int64"
      ]
     },
     "execution_count": 10,
     "metadata": {},
     "output_type": "execute_result"
    }
   ],
   "source": [
    "cols=['cmd_learning_rate', 'cmd_max_steps']\n",
    "gp_by = [\"node_nb\", \"nodes\",\"sub_seed\"] # \"sub_seed\" \n",
    "jobs[gp_by+[\"job_id\"]].groupby(gp_by).count()[\"job_id\"]"
   ]
  },
  {
   "cell_type": "markdown",
   "metadata": {},
   "source": [
    "# Results"
   ]
  },
  {
   "cell_type": "code",
   "execution_count": 11,
   "metadata": {},
   "outputs": [],
   "source": [
    "plot_df = jobs.sort_values(by=[\"duration_total_minutes\", \"node_nb\"], ascending=False)"
   ]
  },
  {
   "cell_type": "code",
   "execution_count": 12,
   "metadata": {},
   "outputs": [],
   "source": [
    "plot_df[\"node_nb_str\"] = plot_df[\"node_nb\"].astype(str)+\" node(s)\""
   ]
  },
  {
   "cell_type": "code",
   "execution_count": 19,
   "metadata": {},
   "outputs": [],
   "source": [
    "import matplotlib.pyplot as plt\n",
    "\n",
    "plt.style.use('ggplot')\n",
    "plt.style.use('seaborn-v0_8-whitegrid')\n",
    "\n",
    "tex_fonts = {\n",
    "    # Use LaTeX to write all text\n",
    "    \"text.usetex\": True,\n",
    "    \"font.family\": \"serif\",\n",
    "    # Use 10pt font in plots, to match 10pt font in document\n",
    "    \"axes.labelsize\": 10,\n",
    "    \"font.size\": 10,\n",
    "    # Make the legend/label fonts a little smaller\n",
    "    \"legend.fontsize\": 8,\n",
    "    \"xtick.labelsize\": 8,\n",
    "    \"ytick.labelsize\": 8\n",
    "}\n",
    "\n",
    "plt.rcParams.update(tex_fonts)"
   ]
  },
  {
   "cell_type": "code",
   "execution_count": 21,
   "metadata": {},
   "outputs": [
    {
     "name": "stderr",
     "output_type": "stream",
     "text": [
      "/Users/mathildepro/miniforge3/envs/energy_analysis/lib/python3.10/site-packages/seaborn/axisgrid.py:118: UserWarning: The figure layout has changed to tight\n",
      "  self._figure.tight_layout(*args, **kwargs)\n"
     ]
    },
    {
     "data": {
      "text/plain": [
       "<Figure size 1500x800 with 0 Axes>"
      ]
     },
     "metadata": {},
     "output_type": "display_data"
    },
    {
     "data": {
      "image/png": "[encoded data removed]",
      "text/plain": [
       "<Figure size 496.848x400 with 1 Axes>"
      ]
     },
     "metadata": {},
     "output_type": "display_data"
    }
   ],
   "source": [
    "les_x = \"images_processed\"\n",
    "les_y = \"energy_kWh\" # energy_kWh duration_total_minutes\n",
    "labels = {\n",
    "    \"nodes\":\"Nodes\", \n",
    "    \"node_nb_str\":\"Number of\\nnodes\", \n",
    "    \"energy_kWh\":\"Energy consumption (kWh)\", \n",
    "    \"images_processed\":\"Number of processed samples (1e6)\",\n",
    "    \"duration_total_minutes\":\"Training time (minutes)\"\n",
    "    }\n",
    "plt.figure(figsize=(15,8))\n",
    "ax = sns.relplot(\n",
    "    data=plot_df.rename(columns=labels),\n",
    "    x=labels[les_x], y=labels[les_y], style=labels[\"node_nb_str\"], hue=labels[\"nodes\"], s=200, palette=\"tab20\", height=4, aspect=1, facet_kws={'ylim': (0, plot_df[les_y].max())}\n",
    ")\n",
    "FONTSIZE = 12\n",
    "ax.set_xticklabels(fontsize=FONTSIZE)\n",
    "ax.set_yticklabels(fontsize=FONTSIZE)\n",
    "ax.set_xlabels(labels[les_x], fontsize=FONTSIZE)\n",
    "ax.set_ylabels(labels[les_y], fontsize=FONTSIZE)\n",
    "plt.legend(handles=ax._legend.legend_handles[-3:], loc='center left', alignment=\"right\", bbox_to_anchor=(0.6, 0.15), handletextpad=0, frameon=True, fontsize=FONTSIZE)\n",
    "ax._legend.remove()\n",
    "# plt.tight_layout()\n",
    "plt.savefig(f\"/Users/mathildepro/Documents/code_projects/hpe_logs/graphs/BERT_{les_x}_vs_{les_y}.pdf\", bbox_inches='tight', dpi=300)\n",
    "plt.savefig(f\"/Users/mathildepro/Documents/code_projects/hpe_logs/graphs/BERT_{les_x}_vs_{les_y}.png\", bbox_inches='tight', dpi=300)"
   ]
  },
  {
   "cell_type": "markdown",
   "metadata": {},
   "source": [
    "It can be noticed that when the number of nodes is multiplied by two, the duration is not divided by two by a factor of 1.5 and, as expected, training with twice as many nodes consumes more energy (by a factor of 1.31). This means that there is a tradeoff to find between minimizing the energy consumption and minimizing the training time. Five experiments were conducted, each one characterised by a seed and a set of nodes. The color indicate the set of nodes, as some of them otherlap particularly when the experiments require 4 nodes. It can be seen that the variability in time and energy is quite significant, due to the instability of training. It seems that the energy depends more on the number of samples that were needed to reach the accuracy than on the number of nodes. For the few data points for which the number of nodes is different and the number of processed samples is equivalent, it seems that more nodes consume more energy. It is likely due to the time overhead of transfering and aggregating data across nodes."
   ]
  },
  {
   "cell_type": "code",
   "execution_count": null,
   "metadata": {},
   "outputs": [
    {
     "data": {
      "text/html": [
       "<style type=\"text/css\">\n",
       "</style>\n",
       "<table id=\"T_0c219\">\n",
       "  <thead>\n",
       "    <tr>\n",
       "      <th class=\"blank level0\" >&nbsp;</th>\n",
       "      <th id=\"T_0c219_level0_col0\" class=\"col_heading level0 col0\" colspan=\"2\">duration_total_minutes</th>\n",
       "      <th id=\"T_0c219_level0_col2\" class=\"col_heading level0 col2\" colspan=\"2\">energy_kWh</th>\n",
       "    </tr>\n",
       "    <tr>\n",
       "      <th class=\"blank level1\" >&nbsp;</th>\n",
       "      <th id=\"T_0c219_level1_col0\" class=\"col_heading level1 col0\" >mean</th>\n",
       "      <th id=\"T_0c219_level1_col1\" class=\"col_heading level1 col1\" >std</th>\n",
       "      <th id=\"T_0c219_level1_col2\" class=\"col_heading level1 col2\" >mean</th>\n",
       "      <th id=\"T_0c219_level1_col3\" class=\"col_heading level1 col3\" >std</th>\n",
       "    </tr>\n",
       "    <tr>\n",
       "      <th class=\"index_name level0\" >node_nb</th>\n",
       "      <th class=\"blank col0\" >&nbsp;</th>\n",
       "      <th class=\"blank col1\" >&nbsp;</th>\n",
       "      <th class=\"blank col2\" >&nbsp;</th>\n",
       "      <th class=\"blank col3\" >&nbsp;</th>\n",
       "    </tr>\n",
       "  </thead>\n",
       "  <tbody>\n",
       "    <tr>\n",
       "      <th id=\"T_0c219_level0_row0\" class=\"row_heading level0 row0\" >1</th>\n",
       "      <td id=\"T_0c219_row0_col0\" class=\"data row0 col0\" >20.017</td>\n",
       "      <td id=\"T_0c219_row0_col1\" class=\"data row0 col1\" >1.313</td>\n",
       "      <td id=\"T_0c219_row0_col2\" class=\"data row0 col2\" >1.105</td>\n",
       "      <td id=\"T_0c219_row0_col3\" class=\"data row0 col3\" >0.071</td>\n",
       "    </tr>\n",
       "    <tr>\n",
       "      <th id=\"T_0c219_level0_row1\" class=\"row_heading level0 row1\" >2</th>\n",
       "      <td id=\"T_0c219_row1_col0\" class=\"data row1 col0\" >12.633</td>\n",
       "      <td id=\"T_0c219_row1_col1\" class=\"data row1 col1\" >1.018</td>\n",
       "      <td id=\"T_0c219_row1_col2\" class=\"data row1 col2\" >1.355</td>\n",
       "      <td id=\"T_0c219_row1_col3\" class=\"data row1 col3\" >0.113</td>\n",
       "    </tr>\n",
       "    <tr>\n",
       "      <th id=\"T_0c219_level0_row2\" class=\"row_heading level0 row2\" >4</th>\n",
       "      <td id=\"T_0c219_row2_col0\" class=\"data row2 col0\" >8.867</td>\n",
       "      <td id=\"T_0c219_row2_col1\" class=\"data row2 col1\" >0.483</td>\n",
       "      <td id=\"T_0c219_row2_col2\" class=\"data row2 col2\" >1.900</td>\n",
       "      <td id=\"T_0c219_row2_col3\" class=\"data row2 col3\" >0.104</td>\n",
       "    </tr>\n",
       "  </tbody>\n",
       "</table>\n"
      ],
      "text/plain": [
       "<pandas.io.formats.style.Styler at 0x17ab07ee0>"
      ]
     },
     "execution_count": 19,
     "metadata": {},
     "output_type": "execute_result"
    }
   ],
   "source": [
    "data = jobs.groupby([\"node_nb\"])[[\"duration_total_minutes\", \"energy_kWh\"]].agg([\"mean\", \"std\"])\n",
    "data.style.format(\"{:.3f}\")"
   ]
  },
  {
   "cell_type": "code",
   "execution_count": null,
   "metadata": {},
   "outputs": [
    {
     "data": {
      "text/plain": [
       "duration_total_minutes  mean    13.838889\n",
       "                        std      0.937943\n",
       "energy_kWh              mean     1.453343\n",
       "                        std      0.096035\n",
       "dtype: float64"
      ]
     },
     "execution_count": 20,
     "metadata": {},
     "output_type": "execute_result"
    }
   ],
   "source": [
    "data.mean()"
   ]
  },
  {
   "cell_type": "code",
   "execution_count": null,
   "metadata": {},
   "outputs": [
    {
     "data": {
      "text/plain": [
       "duration_total_minutes  mean    1.504622\n",
       "                        std     1.698494\n",
       "energy_kWh              mean    0.764400\n",
       "                        std     0.853646\n",
       "dtype: float64"
      ]
     },
     "execution_count": 21,
     "metadata": {},
     "output_type": "execute_result"
    }
   ],
   "source": [
    "(data.shift()/data).mean(axis=0)"
   ]
  },
  {
   "cell_type": "code",
   "execution_count": null,
   "metadata": {},
   "outputs": [
    {
     "data": {
      "text/plain": [
       "duration_total_minutes  mean    0.666494\n",
       "                        std     0.625083\n",
       "energy_kWh              mean    1.314025\n",
       "                        std     1.259473\n",
       "dtype: float64"
      ]
     },
     "execution_count": 22,
     "metadata": {},
     "output_type": "execute_result"
    }
   ],
   "source": [
    "(data/data.shift()).mean(axis=0)"
   ]
  }
 ],
 "metadata": {
  "kernelspec": {
   "display_name": "energy_analysis",
   "language": "python",
   "name": "python3"
  },
  "language_info": {
   "codemirror_mode": {
    "name": "ipython",
    "version": 3
   },
   "file_extension": ".py",
   "mimetype": "text/x-python",
   "name": "python",
   "nbconvert_exporter": "python",
   "pygments_lexer": "ipython3",
   "version": "3.1.0"
  },
  "orig_nbformat": 4
 },
 "nbformat": 4,
 "nbformat_minor": 2
}
